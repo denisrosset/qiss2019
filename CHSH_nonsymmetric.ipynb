{
 "cells": [
  {
   "cell_type": "code",
   "execution_count": 1,
   "metadata": {
    "scrolled": true
   },
   "outputs": [
    {
     "name": "stdout",
     "output_type": "stream",
     "text": [
      "Adding VPI to the path\n",
      "Adding MOxUnit to the path\n",
      "Adding embedded YALMIP to the path\n",
      "Adding embedded SDPT3 to the path. Please run 'install_sdpt3' to complete the setup of this solver\n",
      "Adding MOcov to the path\n",
      "\n",
      "---------------------------------------------------------------------------\n",
      "SDPT3 installation script\n",
      "   Directory: /home/denis/Projects/replab/external/SDPT3\n",
      "   Matlab 9.4.0.813654 (R2018a) on GLNXA64\n",
      "---------------------------------------------------------------------------\n",
      "Looking for existing binaries...found!\n",
      "   If for some reason you need to rebuild the binaries, use this command:\n",
      "      install_sdpt3 -rebuild\n",
      "---------------------------------------------------------------------------\n",
      "Adding SDPT3 to the Matlab path:\n",
      "   Base...already there.\n",
      "   Solver...added.\n",
      "   HSDSolver...added.\n",
      "   Binaries...added.\n",
      "   Examples...added.\n",
      "Please save the Matlab path if you want to use SDPT3 from any directory.\n",
      "---------------------------------------------------------------------------\n",
      "SDPT3 has been succesfully installed.\n",
      "For more information, type \"help sdpt3\" or see the user guide.\n",
      "---------------------------------------------------------------------------\n",
      "\n"
     ]
    }
   ],
   "source": [
    "run ~/Projects/replab/replab_addpaths(2,1);\n",
    "install_sdpt3;"
   ]
  },
  {
   "cell_type": "markdown",
   "metadata": {},
   "source": [
    "# Moment based relaxation for CHSH\n",
    "\n",
    "We use the measurement operators $A_x$ and $B_y$, that have eigenvalues $\\pm 1$.\n",
    "\n",
    "The rules are: $A_x$ and $B_y$ are self-adjoint, $B_y A_x = A_x B_y$ and $(A_x)^2 = (B_y)^2 = 1$. These will translate to linear relations between expectation values (or moments).\n",
    "\n",
    "We build the moment matrix using the vector of monomials $\\vec{v} = \\left( 1, A_0, A_1, B_0, B_1 \\right)$, which is\n",
    "\n",
    "$$ X = \\begin{pmatrix} \n",
    "\\left<1\\right> & \\left<A_0\\right> & \\left<A_1\\right> & \\left<B_0\\right> & \\left<B_1\\right> \\\\ \n",
    "  & \\left<1\\right> & \\left<A_0 A_1\\right> & \\left<A_0 B_0\\right> & \\left<A_0 B_1\\right> \\\\\n",
    "  &   & \\left<1\\right> & \\left<A_1 B_0\\right> & \\left<A_1 B_1\\right> \\\\\n",
    "  &   &   & \\left<1\\right> & \\left<B_0 B_1\\right> \\\\\n",
    "  &   &   &   &  \\left<1\\right>\n",
    "  \\end{pmatrix} $$\n",
    "  \n",
    "The objective function is \n",
    "\n",
    "$$ I_\\text{CHSH} = \\left<A_0 B_0\\right> + \\left<A_0 B_1\\right> + \\left<A_1 B_0\\right> - \\left<A_1 B_1\\right>$$.\n",
    "\n",
    "We optimize over all (real, wlog.) expectations values such that $X$ is a semidefinite positive matrix (which is often written $X\\ge 0$)."
   ]
  },
  {
   "cell_type": "code",
   "execution_count": 2,
   "metadata": {},
   "outputs": [],
   "source": [
    "% We first declare all the moments present.\n",
    "y_A0 = sdpvar;\n",
    "y_A1 = sdpvar;\n",
    "y_B0 = sdpvar;\n",
    "y_B1 = sdpvar;\n",
    "y_A0B0 = sdpvar;\n",
    "y_A0B1 = sdpvar;\n",
    "y_A1B0 = sdpvar;\n",
    "y_A1B1 = sdpvar;\n",
    "y_A0A1 = sdpvar;\n",
    "y_B0B1 = sdpvar;"
   ]
  },
  {
   "cell_type": "markdown",
   "metadata": {},
   "source": [
    "## Part to be completed by participants\n",
    "Below, the objective $I_CHSH$ needs to be filled with a linear combination of the optimization variables (the $y_\\ldots$), and the moment matrix needs to be filled with monomials fully (not only the upper triangle).\n",
    "If the moment matrix specified is not symmetric, the optimization will proceed in an unpredictable way."
   ]
  },
  {
   "cell_type": "code",
   "execution_count": 3,
   "metadata": {},
   "outputs": [],
   "source": [
    "% Please complete the objective function by replacing the value 0\n",
    "ICHSH = 0;"
   ]
  },
  {
   "cell_type": "code",
   "execution_count": 4,
   "metadata": {},
   "outputs": [
    {
     "name": "stdout",
     "output_type": "stream",
     "text": [
      "Linear matrix variable 5x5 (full, real, 4 variables)\n",
      "Coeffiecient range: 1 to 1\n"
     ]
    }
   ],
   "source": [
    "% Please complete moment matrix with correct monomials\n",
    "X = [1    y_A0    y_A1    y_B0    y_B1\n",
    "     0    0       0       0       0\n",
    "     0    0       0       0       0\n",
    "     0    0       0       0       0\n",
    "     0    0       0       0       0]"
   ]
  },
  {
   "cell_type": "markdown",
   "metadata": {},
   "source": [
    "## Solving the optimization problem\n",
    "\n",
    "We now solve the optimization problem. We first check that `X >= 0` is a semidefinite positive constraint (when the underlying matrix is symmetric), as opposed to an element-by-element inequality constraint `X(i,j) >= 0`."
   ]
  },
  {
   "cell_type": "code",
   "execution_count": 5,
   "metadata": {},
   "outputs": [
    {
     "name": "stdout",
     "output_type": "stream",
     "text": [
      "+++++++++++++++++++++++++++++++++++++++++++++++++++++++++++\n",
      "|   ID|                    Constraint|   Coefficient range|\n",
      "+++++++++++++++++++++++++++++++++++++++++++++++++++++++++++\n",
      "|   #1|   Element-wise inequality 4x1|              1 to 1|\n",
      "+++++++++++++++++++++++++++++++++++++++++++++++++++++++++++\n"
     ]
    }
   ],
   "source": [
    "X >= 0 % We don't want the result \"Element-wise inequality\", but \"Matrix inequality\""
   ]
  },
  {
   "cell_type": "markdown",
   "metadata": {},
   "source": [
    "We now solve the optimization problem. Note the sign reversal as by default, YALMIP *minimizes* the objective."
   ]
  },
  {
   "cell_type": "code",
   "execution_count": 6,
   "metadata": {},
   "outputs": [
    {
     "name": "stdout",
     "output_type": "stream",
     "text": [
      "\n",
      "Optimal solution found.\n",
      "\n",
      "\n",
      "ans = \n",
      "\n",
      "  struct with fields:\n",
      "\n",
      "    yalmipversion: '20190425'\n",
      "       yalmiptime: 1.8690\n",
      "       solvertime: 0.5623\n",
      "             info: 'Successfully solved (LINPROG)'\n",
      "          problem: 0\n",
      "\n"
     ]
    }
   ],
   "source": [
    "optimize(X >= 0, -ICHSH)"
   ]
  },
  {
   "cell_type": "markdown",
   "metadata": {},
   "source": [
    "We now look at the answer."
   ]
  },
  {
   "cell_type": "code",
   "execution_count": 7,
   "metadata": {},
   "outputs": [
    {
     "name": "stdout",
     "output_type": "stream",
     "text": [
      "\n",
      "ans =\n",
      "\n",
      "     0\n",
      "\n"
     ]
    }
   ],
   "source": [
    "double(ICHSH)"
   ]
  }
 ],
 "metadata": {
  "kernelspec": {
   "display_name": "MATLAB",
   "language": "matlab",
   "name": "imatlab"
  },
  "language_info": {
   "codemirror_mode": "octave",
   "file_extension": ".m",
   "mimetype": "text/x-matlab",
   "name": "matlab",
   "nbconvert_exporter": "imatlab._exporter.MatlabExporter",
   "pygments_lexer": "matlab",
   "version": "9.4.0.813654 (R2018a)"
  }
 },
 "nbformat": 4,
 "nbformat_minor": 2
}
