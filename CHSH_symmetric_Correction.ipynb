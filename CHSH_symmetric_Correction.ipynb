{
 "cells": [
  {
   "cell_type": "code",
   "execution_count": 4,
   "metadata": {},
   "outputs": [
    {
     "name": "stdout",
     "output_type": "stream",
     "text": [
      "VPI is already in the path\n",
      "MOxUnit is already in the path\n",
      "YALMIP is already in the path\n",
      "SDPT3 is already in the path\n",
      "MOcov is already in the path\n",
      "\n",
      "---------------------------------------------------------------------------\n",
      "SDPT3 installation script\n",
      "   Directory: /home/denis/Projects/replab/external/SDPT3\n",
      "   Matlab 9.4.0.813654 (R2018a) on GLNXA64\n",
      "---------------------------------------------------------------------------\n",
      "Looking for existing binaries...found!\n",
      "   If for some reason you need to rebuild the binaries, use this command:\n",
      "      install_sdpt3 -rebuild\n",
      "---------------------------------------------------------------------------\n",
      "Adding SDPT3 to the Matlab path:\n",
      "   Base...already there.\n",
      "   Solver...already there.\n",
      "   HSDSolver...already there.\n",
      "   Binaries...already there.\n",
      "   Examples...already there.\n",
      "---------------------------------------------------------------------------\n",
      "SDPT3 has been succesfully installed.\n",
      "For more information, type \"help sdpt3\" or see the user guide.\n",
      "---------------------------------------------------------------------------\n",
      "\n"
     ]
    }
   ],
   "source": [
    "run ~/Projects/replab/replab_addpaths(2,1); % replace by your own path\n",
    "install_sdpt3;"
   ]
  },
  {
   "cell_type": "markdown",
   "metadata": {},
   "source": [
    "# Finding an upper bound on CHSH, symmetrized version\n",
    "During the lecture, we found a form of the SDP that had only one optimization variable. We'll now see how to symmetrize the problem completely.\n",
    "\n",
    "We first declare the one and only variable, before constructing the moment matrix."
   ]
  },
  {
   "cell_type": "code",
   "execution_count": 5,
   "metadata": {},
   "outputs": [
    {
     "name": "stdout",
     "output_type": "stream",
     "text": [
      "\n",
      "ans =\n",
      "\n",
      "    2.8284\n",
      "\n"
     ]
    }
   ],
   "source": [
    "y = sdpvar; % y is actually y_A0B0, but we save space by identifying y with it\n",
    "X = [ 1  0  0  0  0\n",
    "      0  1  0  y  y\n",
    "      0  0  1  y -y\n",
    "      0  y  y  1  0\n",
    "      0  y -y  0  1];\n",
    "I_CHSH = 4*y; % it is <A0B0> + <A0B1> + <A1B0> - <A1B1>, and y_A1B1 = -y_A0B0.\n",
    "optimize(X >= 0, -I_CHSH, sdpsettings('verbose', 0)); % sign change to maximize, and we don't show solver out\n",
    "double(I_CHSH)"
   ]
  },
  {
   "cell_type": "markdown",
   "metadata": {},
   "source": [
    "To help with symmetrization, we'll use an equivalent form of the constraint X, and check the result."
   ]
  },
  {
   "cell_type": "code",
   "execution_count": 6,
   "metadata": {},
   "outputs": [
    {
     "name": "stdout",
     "output_type": "stream",
     "text": [
      "\n",
      " num. of constraints =  1\n",
      " dim. of sdp    var  =  5,   num. of sdp  blk  =  1\n",
      "*******************************************************************\n",
      "   SDPT3: Infeasible path-following algorithms\n",
      "*******************************************************************\n",
      " version  predcorr  gam  expon  scale_data\n",
      "   HKM      1      0.000   1        0    \n",
      "it pstep dstep pinfeas dinfeas  gap      prim-obj      dual-obj    cputime\n",
      "-------------------------------------------------------------------\n",
      " 0|0.000|0.000|8.0e-01|6.2e+00|5.0e+02| 5.000000e+01  0.000000e+00| 0:0:00| chol  1  1 \n",
      " 1|1.000|1.000|0.0e+00|6.9e-02|4.3e+01| 3.984640e+01  4.400000e-01| 0:0:00| chol  1  1 \n",
      " 2|0.933|1.000|1.8e-16|6.9e-03|2.9e+00| 3.700415e+00  8.665596e-01| 0:0:00| chol  1  1 \n",
      " 3|1.000|0.949|1.8e-16|1.0e-03|2.8e-01| 3.024905e+00  2.752468e+00| 0:0:00| chol  1  1 \n",
      " 4|0.987|0.988|1.8e-16|8.0e-05|3.4e-03| 2.830875e+00  2.827762e+00| 0:0:00| chol  1  1 \n",
      " 5|0.989|0.989|0.0e+00|7.7e-06|3.8e-05| 2.828454e+00  2.828448e+00| 0:0:00| chol  1  1 \n",
      " 6|0.989|0.989|5.3e-16|8.5e-08|4.2e-07| 2.828427e+00  2.828427e+00| 0:0:00|\n",
      "  stop: max(relative gap, infeasibilities) < 1.00e-07\n",
      "-------------------------------------------------------------------\n",
      " number of iterations   =  6\n",
      " primal objective value =  2.82842742e+00\n",
      " dual   objective value =  2.82842735e+00\n",
      " gap := trace(XZ)       = 4.17e-07\n",
      " relative gap           = 6.26e-08\n",
      " actual relative gap    = 1.04e-08\n",
      " rel. primal infeas (scaled problem)   = 5.33e-16\n",
      " rel. dual     \"        \"       \"      = 8.48e-08\n",
      " rel. primal infeas (unscaled problem) = 0.00e+00\n",
      " rel. dual     \"        \"       \"      = 0.00e+00\n",
      " norm(X), norm(y), norm(Z) = 2.0e+00, 7.1e-01, 3.0e+00\n",
      " norm(A), norm(b), norm(C) = 3.8e+00, 5.0e+00, 3.2e+00\n",
      " Total CPU time (secs)  = 0.10  \n",
      " CPU time per iteration = 0.02  \n",
      " termination code       =  0\n",
      " DIMACS: 5.3e-16  0.0e+00  1.4e-07  0.0e+00  1.0e-08  6.3e-08\n",
      "-------------------------------------------------------------------\n",
      "\n",
      "ans =\n",
      "\n",
      "    2.8284\n",
      "\n"
     ]
    }
   ],
   "source": [
    "C = eye(5); % identity\n",
    "A = [0  0  0  0  0\n",
    "     0  0  0  1  1\n",
    "     0  0  0  1 -1\n",
    "     0  1  1  0  0\n",
    "     0  1 -1  0  0];\n",
    "X = C + A*y; % equivalent to the constraint above\n",
    "optimize(X >= 0, -I_CHSH); % sign change to maximize\n",
    "double(I_CHSH)"
   ]
  },
  {
   "cell_type": "markdown",
   "metadata": {},
   "source": [
    "Now, we want to find a change of basis that brings X into a block-diagonal form. This is easier to check on the basis matrices `C` and `A`, i.e. we want to find `U` such that `U*C*U'` and `U*A*U'` are block-diagonal. Let us use RepLAB for that.\n",
    "First, remark that the moment matrix is invariant under the following signed permutations:\n",
    "\n",
    "$\\vec{v} = \\left( 1, A_0, A_1, B_0, B_1 \\right) \\rightarrow  \\left( 1, B_0, B_1, A_0, A_1 \\right) $\n",
    "\n",
    "$\\vec{v} = \\left( 1, A_0, A_1, B_0, B_1 \\right) \\rightarrow  \\left( 1, -A_0, -A_1, -B_0, -B_1 \\right) $\n",
    "\n",
    "$\\vec{v} = \\left( 1, A_0, A_1, B_0, B_1 \\right) \\rightarrow  \\left( 1, A_1, A_0, B_0, -B_1 \\right) $\n",
    "\n",
    "We now show how to use RepLAB to find the change of basis for the symmetry group that includes only the first symmetry."
   ]
  },
  {
   "cell_type": "code",
   "execution_count": 7,
   "metadata": {},
   "outputs": [],
   "source": [
    "g1 = [1 4 5 2 3]; % permutation of parties\n",
    "g2 = [1 -2 -3 -4 -5]; % sign flip everywhere, note the signed permutation convention\n",
    "g3 = [1 3 2 4 -5]; % additional symmetry"
   ]
  },
  {
   "cell_type": "markdown",
   "metadata": {},
   "source": [
    "We build the symmetry group from those generators, which are signed permutations on five elements. For the permutation of parties only, the order (=size) of the group is 2. When adding the other symmetries, the order of the group should be 16."
   ]
  },
  {
   "cell_type": "code",
   "execution_count": 8,
   "metadata": {},
   "outputs": [
    {
     "name": "stdout",
     "output_type": "stream",
     "text": [
      "ans =\n",
      "    16\n"
     ]
    }
   ],
   "source": [
    "nElements = 5;\n",
    "G = replab.SignedPermutations(nElements).subgroup({g1 g2 g3});\n",
    "G.order"
   ]
  },
  {
   "cell_type": "markdown",
   "metadata": {},
   "source": [
    "If necessary, we can also expand the group elements (use `G.elements.at(2)` to get the second element for example)."
   ]
  },
  {
   "cell_type": "code",
   "execution_count": 9,
   "metadata": {},
   "outputs": [
    {
     "name": "stdout",
     "output_type": "stream",
     "text": [
      "\n",
      "ans = \n",
      "\n",
      "Enumerator of 16 elements\n",
      " 1 = [1, 2, 3, 4, 5]    \n",
      " 2 = [1, -3, -2, -4, 5] \n",
      " 3 = [1, -5, -4, -2, 3] \n",
      " 4 = [1, 4, 5, 2, 3]    \n",
      " 5 = [1, -3, 2, 5, -4]  \n",
      " 6 = [1, -2, 3, -5, -4] \n",
      " 7 = [1, 4, -5, 3, 2]   \n",
      " 8 = [1, 5, -4, -3, 2]  \n",
      " 9 = [1, -2, -3, -4, -5]\n",
      "10 = [1, 3, 2, 4, -5]   \n",
      "11 = [1, 5, 4, 2, -3]   \n",
      "12 = [1, -4, -5, -2, -3]\n",
      "13 = [1, 3, -2, -5, 4]  \n",
      "14 = [1, 2, -3, 5, 4]   \n",
      "15 = [1, -4, 5, -3, -2] \n",
      "16 = [1, -5, 4, 3, -2]  \n"
     ]
    }
   ],
   "source": [
    "G.elements"
   ]
  },
  {
   "cell_type": "markdown",
   "metadata": {},
   "source": [
    "Now, the representatio we need is composed of signed permutation matrices; as we are considering a group of signed permutations, this is the group *natural representation*. Representations in RepLAB are described using the images of the generators. By calling `G.sampleUniformly`, we get random elements from the group, and by calling `rep.image(g)` we get the image of a group element."
   ]
  },
  {
   "cell_type": "code",
   "execution_count": 10,
   "metadata": {},
   "outputs": [
    {
     "name": "stdout",
     "output_type": "stream",
     "text": [
      "\n",
      "rep = \n",
      "\n",
      "Orthogonal real representation of dimension 5\n",
      "dimension: 5                                                                              \n",
      "    field: 'R'                                                                            \n",
      "    group: replab.SignedPermutationSubgroup                                               \n",
      "images{1}: [1, 0, 0, 0, 0; 0, 0, 0, 1, 0; 0, 0, 0, 0, 1; 0, 1, 0, 0, 0; 0, 0, 1, 0, 0]    \n",
      "images{2}: [1, 0, 0, 0, 0; 0, -1, 0, 0, 0; 0, 0, -1, 0, 0; 0, 0, 0, -1, 0; 0, 0, 0, 0, -1]\n",
      "images{3}: [1, 0, 0, 0, 0; 0, 0, 1, 0, 0; 0, 1, 0, 0, 0; 0, 0, 0, 1, 0; 0, 0, 0, 0, -1]   \n"
     ]
    }
   ],
   "source": [
    "rep = G.naturalRep"
   ]
  },
  {
   "cell_type": "code",
   "execution_count": 11,
   "metadata": {},
   "outputs": [
    {
     "name": "stdout",
     "output_type": "stream",
     "text": [
      "\n",
      "g =\n",
      "\n",
      "     1     3     2     4    -5\n",
      "\n",
      "\n",
      "ans =\n",
      "\n",
      "     1     0     0     0     0\n",
      "     0     0     1     0     0\n",
      "     0     1     0     0     0\n",
      "     0     0     0     1     0\n",
      "     0     0     0     0    -1\n",
      "\n"
     ]
    }
   ],
   "source": [
    "g = G.sampleUniformly\n",
    "full(rep.image(g)) % we use full, as signed permutation representations return sparse matrices"
   ]
  },
  {
   "cell_type": "markdown",
   "metadata": {},
   "source": [
    "Now, we decompose the representation into irreducible components. For that, we call `rep.decomposition`. In the answer I(m)xR(d), we express that the component has $m$ copies (multiplicity) of a `R`eal representation of dimension `d`. We then play with the indices of the component, and copy.\n",
    "\n",
    "Hint: explore `rep.decomposition.component(i).copy(j)` for $(i,j) = (1,1), (1,2), (1,3), (2,1), (2,2)$."
   ]
  },
  {
   "cell_type": "code",
   "execution_count": 12,
   "metadata": {},
   "outputs": [
    {
     "name": "stdout",
     "output_type": "stream",
     "text": [
      "\n",
      "ans = \n",
      "\n",
      "replab.Irreducible\n",
      "      parent: Orthogonal real representation of dimension 5\n",
      "component(1): Isotypic component R(1)                      \n",
      "component(2): Isotypic component R(2)                      \n",
      "component(3): Isotypic component R(2)                      \n"
     ]
    }
   ],
   "source": [
    "rep.decomposition"
   ]
  },
  {
   "cell_type": "code",
   "execution_count": 13,
   "metadata": {},
   "outputs": [
    {
     "name": "stdout",
     "output_type": "stream",
     "text": [
      "\n",
      "ans = \n",
      "\n",
      "Real-type real irreducible subrepresentation\n",
      "          dimension: 1                                            \n",
      "              field: 'R'                                          \n",
      "              group: replab.SignedPermutationSubgroup             \n",
      "             parent: Orthogonal real representation of dimension 5\n",
      "realDivisionAlgebra: R                                            \n",
      "                 U': [1, 0, 0, 0, 0]'                             \n"
     ]
    }
   ],
   "source": [
    "rep.decomposition.component(1).copy(1)"
   ]
  },
  {
   "cell_type": "markdown",
   "metadata": {},
   "source": [
    "We now ask for the change of basis matrix, and verify that `A` and `C` block-diagonalize."
   ]
  },
  {
   "cell_type": "code",
   "execution_count": 14,
   "metadata": {},
   "outputs": [
    {
     "name": "stdout",
     "output_type": "stream",
     "text": [
      "\n",
      "U =\n",
      "\n",
      "    1.0000         0         0         0         0\n",
      "         0   -0.5000    0.5000         0    0.7071\n",
      "         0    0.5000    0.5000   -0.7071         0\n",
      "         0    0.5000   -0.5000         0    0.7071\n",
      "         0    0.5000    0.5000    0.7071         0\n",
      "\n",
      "\n",
      "ans =\n",
      "\n",
      "    1.0000         0         0         0         0\n",
      "         0    1.0000    0.0000   -0.0000   -0.0000\n",
      "         0    0.0000    1.0000   -0.0000   -0.0000\n",
      "         0   -0.0000   -0.0000    1.0000    0.0000\n",
      "         0   -0.0000   -0.0000    0.0000    1.0000\n",
      "\n",
      "\n",
      "ans =\n",
      "\n",
      "         0         0         0         0         0\n",
      "         0   -1.4142   -0.0000         0    0.0000\n",
      "         0   -0.0000   -1.4142   -0.0000         0\n",
      "         0         0   -0.0000    1.4142    0.0000\n",
      "         0    0.0000         0    0.0000    1.4142\n",
      "\n"
     ]
    }
   ],
   "source": [
    "U = full(rep.decomposition.rep.U)\n",
    "U*C*U'\n",
    "U*A*U'"
   ]
  },
  {
   "cell_type": "markdown",
   "metadata": {},
   "source": [
    "Once we have found the change of basis matrix, we transform our moment matrix `X`, and naturally it should have a block diagonal structure following the one of `C` and `A` -- for that, it may be necessary to kill small off-block coefficients."
   ]
  },
  {
   "cell_type": "code",
   "execution_count": 15,
   "metadata": {},
   "outputs": [
    {
     "name": "stdout",
     "output_type": "stream",
     "text": [
      "\n",
      " num. of constraints =  1\n",
      " dim. of sdp    var  =  5,   num. of sdp  blk  =  1  1th semidefinite block is actually diagonal\n",
      "\n",
      "*******************************************************************\n",
      "   SDPT3: Infeasible path-following algorithms\n",
      "*******************************************************************\n",
      " version  predcorr  gam  expon  scale_data\n",
      "   HKM      1      0.000   1        0    \n",
      "it pstep dstep pinfeas dinfeas  gap      prim-obj      dual-obj    cputime\n",
      "-------------------------------------------------------------------\n",
      " 0|0.000|0.000|8.0e-01|6.2e+00|5.0e+02| 5.000000e+01  0.000000e+00| 0:0:00| chol  1  1 \n",
      " 1|1.000|1.000|6.5e-08|6.9e-02|4.3e+01| 3.984640e+01  4.400004e-01| 0:0:00| chol  1  1 \n",
      " 2|0.933|1.000|1.5e-07|6.9e-03|2.9e+00| 3.700414e+00  8.665599e-01| 0:0:00| chol  1  1 \n",
      " 3|1.000|0.949|3.5e-08|1.0e-03|2.8e-01| 3.024905e+00  2.752468e+00| 0:0:00| chol  1  1 \n",
      " 4|0.987|0.988|1.1e-08|8.0e-05|3.4e-03| 2.830875e+00  2.827762e+00| 0:0:00| chol  1  1 \n",
      " 5|0.989|0.989|3.5e-10|7.7e-06|3.8e-05| 2.828454e+00  2.828448e+00| 0:0:00| chol  1  1 \n",
      " 6|0.989|0.989|8.9e-12|8.5e-08|4.2e-07| 2.828427e+00  2.828427e+00| 0:0:00|\n",
      "  stop: max(relative gap, infeasibilities) < 1.00e-07\n",
      "-------------------------------------------------------------------\n",
      " number of iterations   =  6\n",
      " primal objective value =  2.82842742e+00\n",
      " dual   objective value =  2.82842735e+00\n",
      " gap := trace(XZ)       = 4.17e-07\n",
      " relative gap           = 6.26e-08\n",
      " actual relative gap    = 1.04e-08\n",
      " rel. primal infeas (scaled problem)   = 8.94e-12\n",
      " rel. dual     \"        \"       \"      = 8.49e-08\n",
      " rel. primal infeas (unscaled problem) = 0.00e+00\n",
      " rel. dual     \"        \"       \"      = 0.00e+00\n",
      " norm(X), norm(y), norm(Z) = 2.0e+00, 7.1e-01, 3.0e+00\n",
      " norm(A), norm(b), norm(C) = 3.8e+00, 5.0e+00, 3.2e+00\n",
      " Total CPU time (secs)  = 0.23  \n",
      " CPU time per iteration = 0.04  \n",
      " termination code       =  0\n",
      " DIMACS: 8.9e-12  0.0e+00  1.4e-07  0.0e+00  1.0e-08  6.3e-08\n",
      "-------------------------------------------------------------------\n",
      "\n",
      "ans =\n",
      "\n",
      "    2.8284\n",
      "\n"
     ]
    }
   ],
   "source": [
    "X = (U*C*U') + (U*A*U')*y; % equivalent to the constraint above\n",
    "optimize(X >= 0, -I_CHSH); % sign change to maximize\n",
    "double(I_CHSH)"
   ]
  },
  {
   "cell_type": "markdown",
   "metadata": {},
   "source": [
    "As an exercice, recover an algebraic basis from `U`, guess the form of the semidefinite program when fully block-diagonal (i.e. for the full group of CHSH symmetries).\n",
    "**Remark that now the problem can be solved by hand to recover the $2\\sqrt{2}$ bound, as the SDP matrix is fully diagonal, and thus corresponds to linear inequalities.**"
   ]
  }
 ],
 "metadata": {
  "kernelspec": {
   "display_name": "MATLAB",
   "language": "matlab",
   "name": "imatlab"
  },
  "language_info": {
   "codemirror_mode": "octave",
   "file_extension": ".m",
   "mimetype": "text/x-matlab",
   "name": "matlab",
   "nbconvert_exporter": "imatlab._exporter.MatlabExporter",
   "pygments_lexer": "matlab",
   "version": "9.4.0.813654 (R2018a)"
  }
 },
 "nbformat": 4,
 "nbformat_minor": 4
}
