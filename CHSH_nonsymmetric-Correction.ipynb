{
 "cells": [
  {
   "cell_type": "code",
   "execution_count": 1,
   "metadata": {
    "scrolled": true
   },
   "outputs": [
    {
     "name": "stdout",
     "output_type": "stream",
     "text": [
      "Adding VPI to the path\n",
      "Adding MOxUnit to the path\n",
      "Adding embedded YALMIP to the path\n",
      "Adding embedded SDPT3 to the path. Please run 'install_sdpt3' to complete the setup of this solver\n",
      "Adding MOcov to the path\n",
      "\n",
      "---------------------------------------------------------------------------\n",
      "SDPT3 installation script\n",
      "   Directory: /home/denis/Projects/replab/external/SDPT3\n",
      "   Matlab 9.4.0.813654 (R2018a) on GLNXA64\n",
      "---------------------------------------------------------------------------\n",
      "Looking for existing binaries...found!\n",
      "   If for some reason you need to rebuild the binaries, use this command:\n",
      "      install_sdpt3 -rebuild\n",
      "---------------------------------------------------------------------------\n",
      "Adding SDPT3 to the Matlab path:\n",
      "   Base...already there.\n",
      "   Solver...added.\n",
      "   HSDSolver...added.\n",
      "   Binaries...added.\n",
      "   Examples...added.\n",
      "Please save the Matlab path if you want to use SDPT3 from any directory.\n",
      "---------------------------------------------------------------------------\n",
      "SDPT3 has been succesfully installed.\n",
      "For more information, type \"help sdpt3\" or see the user guide.\n",
      "---------------------------------------------------------------------------\n",
      "\n"
     ]
    }
   ],
   "source": [
    "run ~/Projects/replab/replab_addpaths(2,1);\n",
    "install_sdpt3;"
   ]
  },
  {
   "cell_type": "markdown",
   "metadata": {},
   "source": [
    "# Moment based relaxation for CHSH\n",
    "\n",
    "We use the measurement operators $A_x$ and $B_y$, that have eigenvalues $\\pm 1$.\n",
    "\n",
    "The rules are: $A_x$ and $B_y$ are self-adjoint, $B_y A_x = A_x B_y$ and $(A_x)^2 = (B_y)^2 = 1$. These will translate to linear relations between expectation values (or moments).\n",
    "\n",
    "We build the moment matrix using the vector of monomials $\\vec{v} = \\left( 1, A_0, A_1, B_0, B_1 \\right)$, which is\n",
    "\n",
    "$X = \\begin{pmatrix}\\left<1\\right> & \\left<A_0\\right> & \\left<A_1\\right> & \\left<B_0\\right> & \\left<B_1\\right> \\\\  & \\left<1\\right> & \\left<A_0 A_1\\right> & \\left<A_0 B_0\\right> & \\left<A_0 B_1\\right> \\\\ &   & \\left<1\\right> & \\left<A_1 B_0\\right> & \\left<A_1 B_1\\right> \\\\  &   &   & \\left<1\\right> & \\left<B_0 B_1\\right> \\\\  &   &   &   &  \\left<1\\right> \\end{pmatrix}$\n",
    "  \n",
    "The objective function is \n",
    "\n",
    "$I_\\text{CHSH} = \\left<A_0 B_0\\right> + \\left<A_0 B_1\\right> + \\left<A_1 B_0\\right> - \\left<A_1 B_1\\right>$\n",
    "\n",
    "We optimize over all (real, wlog.) expectations values such that $X$ is a semidefinite positive matrix (which is often written $X\\ge 0$)."
   ]
  },
  {
   "cell_type": "code",
   "execution_count": 2,
   "metadata": {},
   "outputs": [],
   "source": [
    "% We first declare all the moments present.\n",
    "y_A0 = sdpvar;\n",
    "y_A1 = sdpvar;\n",
    "y_B0 = sdpvar;\n",
    "y_B1 = sdpvar;\n",
    "y_A0B0 = sdpvar;\n",
    "y_A0B1 = sdpvar;\n",
    "y_A1B0 = sdpvar;\n",
    "y_A1B1 = sdpvar;\n",
    "y_A0A1 = sdpvar;\n",
    "y_B0B1 = sdpvar;"
   ]
  },
  {
   "cell_type": "markdown",
   "metadata": {},
   "source": [
    "## Part to be completed by participants\n",
    "Below, the objective $I_CHSH$ needs to be filled with a linear combination of the optimization variables (the $y_\\ldots$), and the moment matrix needs to be filled with monomials fully (not only the upper triangle).\n",
    "If the moment matrix specified is not symmetric, the optimization will proceed in an unpredictable way."
   ]
  },
  {
   "cell_type": "code",
   "execution_count": 3,
   "metadata": {},
   "outputs": [
    {
     "name": "stdout",
     "output_type": "stream",
     "text": [
      "Linear scalar (real, 4 variables)\n",
      "Coeffiecient range: 1 to 1\n"
     ]
    }
   ],
   "source": [
    "% Please complete the objective function by replacing the value 0\n",
    "ICHSH = y_A0B0 + y_A0B1 + y_A1B0 - y_A1B1"
   ]
  },
  {
   "cell_type": "code",
   "execution_count": 4,
   "metadata": {},
   "outputs": [
    {
     "name": "stdout",
     "output_type": "stream",
     "text": [
      "Linear matrix variable 5x5 (symmetric, real, 10 variables)\n",
      "Coeffiecient range: 1 to 1\n"
     ]
    }
   ],
   "source": [
    "% Please complete moment matrix with correct monomials\n",
    "X = [1      y_A0    y_A1    y_B0    y_B1\n",
    "     y_A0   1       y_A0A1  y_A0B0  y_A0B1\n",
    "     y_A1   y_A0A1  1       y_A1B0  y_A1B1\n",
    "     y_B0   y_A0B0  y_A1B0  1       y_B0B1\n",
    "     y_B1   y_A0B1  y_A1B1  y_B0B1  1]"
   ]
  },
  {
   "cell_type": "markdown",
   "metadata": {},
   "source": [
    "## Solving the optimization problem\n",
    "\n",
    "We now solve the optimization problem. We first check that `X >= 0` is a semidefinite positive constraint (when the underlying matrix is symmetric), as opposed to an element-by-element inequality constraint `X(i,j) >= 0`."
   ]
  },
  {
   "cell_type": "code",
   "execution_count": 5,
   "metadata": {},
   "outputs": [
    {
     "name": "stdout",
     "output_type": "stream",
     "text": [
      "+++++++++++++++++++++++++++++++++++++++++++++++++++++\n",
      "|   ID|              Constraint|   Coefficient range|\n",
      "+++++++++++++++++++++++++++++++++++++++++++++++++++++\n",
      "|   #1|   Matrix inequality 5x5|              1 to 1|\n",
      "+++++++++++++++++++++++++++++++++++++++++++++++++++++\n"
     ]
    }
   ],
   "source": [
    "X >= 0 % We don't want the result \"Element-wise inequality\", but \"Matrix inequality\""
   ]
  },
  {
   "cell_type": "markdown",
   "metadata": {},
   "source": [
    "We now solve the optimization problem. Note the sign reversal as by default, YALMIP *minimizes* the objective."
   ]
  },
  {
   "cell_type": "code",
   "execution_count": 6,
   "metadata": {},
   "outputs": [
    {
     "name": "stdout",
     "output_type": "stream",
     "text": [
      "\n",
      " num. of constraints = 10\n",
      " dim. of sdp    var  =  5,   num. of sdp  blk  =  1\n",
      "*******************************************************************\n",
      "   SDPT3: Infeasible path-following algorithms\n",
      "*******************************************************************\n",
      " version  predcorr  gam  expon  scale_data\n",
      "   HKM      1      0.000   1        0    \n",
      "it pstep dstep pinfeas dinfeas  gap      prim-obj      dual-obj    cputime\n",
      "-------------------------------------------------------------------\n",
      " 0|0.000|0.000|6.7e-01|6.2e+00|5.0e+02| 5.000000e+01  0.000000e+00| 0:0:00| chol  1  1 \n",
      " 1|1.000|1.000|5.4e-08|6.9e-02|4.3e+01| 3.984640e+01  4.400004e-01| 0:0:00| chol  1  1 \n",
      " 2|0.933|1.000|1.2e-07|6.9e-03|2.9e+00| 3.700414e+00  8.665599e-01| 0:0:00| chol  1  1 \n",
      " 3|1.000|0.949|2.6e-08|1.0e-03|2.8e-01| 3.024905e+00  2.752468e+00| 0:0:00| chol  1  1 \n",
      " 4|0.987|0.988|6.8e-09|8.0e-05|3.4e-03| 2.830875e+00  2.827762e+00| 0:0:01| chol  1  1 \n",
      " 5|0.989|0.989|1.7e-10|7.7e-06|3.8e-05| 2.828454e+00  2.828448e+00| 0:0:01| chol  1  1 \n",
      " 6|0.989|0.989|8.7e-12|8.5e-08|4.2e-07| 2.828427e+00  2.828427e+00| 0:0:01|\n",
      "  stop: max(relative gap, infeasibilities) < 1.00e-07\n",
      "-------------------------------------------------------------------\n",
      " number of iterations   =  6\n",
      " primal objective value =  2.82842742e+00\n",
      " dual   objective value =  2.82842735e+00\n",
      " gap := trace(XZ)       = 4.17e-07\n",
      " relative gap           = 6.26e-08\n",
      " actual relative gap    = 1.04e-08\n",
      " rel. primal infeas (scaled problem)   = 8.72e-12\n",
      " rel. dual     \"        \"       \"      = 8.48e-08\n",
      " rel. primal infeas (unscaled problem) = 0.00e+00\n",
      " rel. dual     \"        \"       \"      = 0.00e+00\n",
      " norm(X), norm(y), norm(Z) = 2.0e+00, 1.4e+00, 3.0e+00\n",
      " norm(A), norm(b), norm(C) = 5.5e+00, 3.0e+00, 3.2e+00\n",
      " Total CPU time (secs)  = 0.59  \n",
      " CPU time per iteration = 0.10  \n",
      " termination code       =  0\n",
      " DIMACS: 1.3e-11  0.0e+00  1.4e-07  0.0e+00  1.0e-08  6.3e-08\n",
      "-------------------------------------------------------------------\n",
      "\n",
      "ans = \n",
      "\n",
      "  struct with fields:\n",
      "\n",
      "    yalmipversion: '20190425'\n",
      "       yalmiptime: 1.9922\n",
      "       solvertime: 0.9638\n",
      "             info: 'Successfully solved (SDPT3-4)'\n",
      "          problem: 0\n",
      "\n"
     ]
    }
   ],
   "source": [
    "optimize(X >= 0, -ICHSH)"
   ]
  },
  {
   "cell_type": "markdown",
   "metadata": {},
   "source": [
    "We now look at the answer."
   ]
  },
  {
   "cell_type": "code",
   "execution_count": 7,
   "metadata": {},
   "outputs": [
    {
     "name": "stdout",
     "output_type": "stream",
     "text": [
      "\n",
      "ans =\n",
      "\n",
      "    2.8284\n",
      "\n"
     ]
    }
   ],
   "source": [
    "double(ICHSH)"
   ]
  }
 ],
 "metadata": {
  "kernelspec": {
   "display_name": "MATLAB",
   "language": "matlab",
   "name": "imatlab"
  },
  "language_info": {
   "codemirror_mode": "octave",
   "file_extension": ".m",
   "mimetype": "text/x-matlab",
   "name": "matlab",
   "nbconvert_exporter": "imatlab._exporter.MatlabExporter",
   "pygments_lexer": "matlab",
   "version": "9.4.0.813654 (R2018a)"
  }
 },
 "nbformat": 4,
 "nbformat_minor": 4
}
