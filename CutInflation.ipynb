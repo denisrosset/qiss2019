{
 "cells": [
  {
   "cell_type": "code",
   "execution_count": 1,
   "metadata": {},
   "outputs": [
    {
     "name": "stdout",
     "output_type": "stream",
     "text": [
      "Adding VPI to the path\n",
      "Adding MOxUnit to the path\n",
      "Adding embedded YALMIP to the path\n",
      "Adding embedded SDPT3 to the path. Please run 'install_sdpt3' to complete the setup of this solver\n",
      "Adding MOcov to the path\n",
      "\n",
      "---------------------------------------------------------------------------\n",
      "SDPT3 installation script\n",
      "   Directory: /home/denis/Projects/replab/external/SDPT3\n",
      "   Matlab 9.4.0.813654 (R2018a) on GLNXA64\n",
      "---------------------------------------------------------------------------\n",
      "Looking for existing binaries...found!\n",
      "   If for some reason you need to rebuild the binaries, use this command:\n",
      "      install_sdpt3 -rebuild\n",
      "---------------------------------------------------------------------------\n",
      "Adding SDPT3 to the Matlab path:\n",
      "   Base...already there.\n",
      "   Solver...added.\n",
      "   HSDSolver...added.\n",
      "   Binaries...added.\n",
      "   Examples...added.\n",
      "Please save the Matlab path if you want to use SDPT3 from any directory.\n",
      "---------------------------------------------------------------------------\n",
      "SDPT3 has been succesfully installed.\n",
      "For more information, type \"help sdpt3\" or see the user guide.\n",
      "---------------------------------------------------------------------------\n",
      "\n"
     ]
    }
   ],
   "source": [
    "run ~/Projects/replab/replab_addpaths(2,1); % replace by your own path\n",
    "install_sdpt3;"
   ]
  },
  {
   "cell_type": "markdown",
   "metadata": {},
   "source": [
    "# Implementing the cut inflation test\n",
    "\n",
    "We are using the enumeration of variables\n",
    "\n",
    "$\\vec{P}^\\text{test}_\\text{ABC} = \\big( P(abc) \\big) = \\big(P(000), P(001), P(010), P(011), P(100), P(101), P(110), P(111)\\big)$,\n",
    "\n",
    "for the triangle with connections (shown here flattened, there is a single `beta` variable):\n",
    "\n",
    "```\n",
    "beta -> A <- gamma -> B <- alpha -> C <- beta (looping)\n",
    "```\n",
    "\n",
    "For example, we test the distributions:\n",
    "\n",
    "$ \\vec{P}^\\text{equal} = \\big( 1/2, 0, 0, 0, 0, 0, 0, 1/2 \\big). $\n",
    "\n",
    "$ \\vec{P}^\\text{notequal} = \\big( 0, 1/6, 1/6, 1/6, 1/6, 1/6, 1/6, 0 \\big). $\n",
    "\n",
    "and a new distribution inspired by the $W$ state:\n",
    "\n",
    "$ \\vec{P}^\\text{W} = \\big( 0, 1/3, 1/3, 0, 1/3, 0, 0, 0 \\big). $\n",
    "\n",
    "We will test those distributions using the cut inflation \n",
    "\n",
    "$\\vec{P}^\\text{inf}_\\text{A1B1C1} = \\big( P(a_1 b_1 c_1) \\big) = \\big(P(000), P(001), P(010), P(011), P(100), P(101), P(110), P(111)\\big)$,\n",
    "\n",
    "which is connected in this way:\n",
    "\n",
    "```\n",
    "beta1 -> A1 <- gamma1 -> B1 <- alpha1 -> C1 <- beta2\n",
    "```.\n",
    "\n",
    "We now defined the distribution being tested, the inflation distribution $\\vec{P}^\\text{test}$ with its first constraint, namely nonnegativity."
   ]
  },
  {
   "cell_type": "code",
   "execution_count": 2,
   "metadata": {},
   "outputs": [],
   "source": [
    "P_abc = [1 0 0 0 0 0 0 1]'/2; % we omit the \"test\" superscript, if the distribution is on a,b,c it is the test one\n",
    "P_a1b1c1 = sdpvar(8, 1); % we omit the \"inf\" superscript, if the distribution is on a1,b1,c1 it is the inflation one\n",
    "Constraint_Pos = [P_a1b1c1 >= 0];"
   ]
  },
  {
   "cell_type": "markdown",
   "metadata": {},
   "source": [
    "Now the hard part. We need to add the constraints that match marginal distributions of $\\vec{P}^\\text{test}$ with parts of $\\vec{P}^\\text{inf}$. For example, we match $\\vec{P}^\\text{inf}_\\text{A1C1}$"
   ]
  },
  {
   "cell_type": "code",
   "execution_count": 3,
   "metadata": {},
   "outputs": [],
   "source": [
    "P_a = [1 1 1 1 0 0 0 0\n",
    "       0 0 0 0 1 1 1 1] * P_abc;\n",
    "P_c = [1 0 1 0 1 0 1 0\n",
    "       0 1 0 1 0 1 0 1] * P_abc;\n",
    "P_a1c1 = [1 0 1 0 0 0 0 0\n",
    "          0 1 0 1 0 0 0 0\n",
    "          0 0 0 0 1 0 1 0\n",
    "          0 0 0 0 0 1 0 1] * P_a1b1c1;\n",
    "Constraint_A1C1 = [P_a1c1 == [P_a(1)*P_c(1); P_a(1)*P_c(2); P_a(2)*P_c(1); P_a(2)*P_c(2)]];"
   ]
  },
  {
   "cell_type": "markdown",
   "metadata": {},
   "source": [
    "Now, write the constraints for $\\vec{P}^\\text{test}_\\text{AB} = \\vec{P}^\\text{inf}_\\text{A1B1}$ and $\\vec{P}^\\text{test}_\\text{BC} = \\vec{P}^\\text{inf}_\\text{B1C1}$."
   ]
  },
  {
   "cell_type": "code",
   "execution_count": 4,
   "metadata": {},
   "outputs": [],
   "source": [
    "P_ab = [];\n",
    "P_a1b1 = [];\n",
    "Constraint_A1B1 = [P_ab == P_a1b1];\n",
    "P_bc = [];\n",
    "P_b1c1 = [];\n",
    "Constraint_B1C1 = [P_bc == P_b1c1];"
   ]
  },
  {
   "cell_type": "markdown",
   "metadata": {},
   "source": [
    "We now solve the feasibility problem. Note that we fix the objective to `0`."
   ]
  },
  {
   "cell_type": "code",
   "execution_count": 5,
   "metadata": {},
   "outputs": [
    {
     "name": "stdout",
     "output_type": "stream",
     "text": [
      "\n",
      "Optimal solution found.\n",
      "\n",
      "\n",
      "ans = \n",
      "\n",
      "  struct with fields:\n",
      "\n",
      "    yalmipversion: '20190425'\n",
      "       yalmiptime: 1.7091\n",
      "       solvertime: 0.4351\n",
      "             info: 'Successfully solved (LINPROG)'\n",
      "          problem: 0\n",
      "\n"
     ]
    }
   ],
   "source": [
    "CONS = [Constraint_Pos\n",
    "        Constraint_A1C1\n",
    "        Constraint_A1B1\n",
    "        Constraint_B1C1];\n",
    "optimize(CONS, 0)\n"
   ]
  },
  {
   "cell_type": "markdown",
   "metadata": {},
   "source": [
    "## And now?\n",
    "Try to check compatibility of the `notequal` and `W` distributions.\n",
    "You should find that `notequal` is compatible: we know there exists an explicit model!\n",
    "What happens for `W`? In the lab session, we'll prove using another inflation that it is not compatible with the triangle causal structure. But is it compatible with the cut inflation?"
   ]
  },
  {
   "cell_type": "code",
   "execution_count": null,
   "metadata": {},
   "outputs": [],
   "source": []
  }
 ],
 "metadata": {
  "kernelspec": {
   "display_name": "MATLAB",
   "language": "matlab",
   "name": "imatlab"
  },
  "language_info": {
   "codemirror_mode": "octave",
   "file_extension": ".m",
   "mimetype": "text/x-matlab",
   "name": "matlab",
   "nbconvert_exporter": "imatlab._exporter.MatlabExporter",
   "pygments_lexer": "matlab",
   "version": "9.4.0.813654 (R2018a)"
  }
 },
 "nbformat": 4,
 "nbformat_minor": 4
}
